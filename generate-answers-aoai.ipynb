{
 "cells": [
  {
   "cell_type": "code",
   "execution_count": 1,
   "metadata": {},
   "outputs": [],
   "source": [
    "from openai import AzureOpenAI"
   ]
  },
  {
   "cell_type": "code",
   "execution_count": 2,
   "metadata": {},
   "outputs": [],
   "source": [
    "endpoint=\"\"\n",
    "deployed_model1 = \"gpt-4\"\n",
    "deployed_model2 = \"gpt-35-turbo\"\n",
    "deployed_model3 = \"gpt-4-2\"\n",
    "\n"
   ]
  },
  {
   "cell_type": "code",
   "execution_count": 3,
   "metadata": {},
   "outputs": [],
   "source": [
    "client = AzureOpenAI(\n",
    "   api_version=\"2023-09-01-preview\",\n",
    "   azure_deployment=deployed_model1,\n",
    "   azure_endpoint=endpoint,\n",
    "   api_key=\"\",\n",
    "#    azure_ad_token_provider=token_provider,  \n",
    ")\n"
   ]
  },
  {
   "cell_type": "code",
   "execution_count": 4,
   "metadata": {},
   "outputs": [],
   "source": [
    "def getOpenAIResp(userQuery, systemMessage, deployed_model):\n",
    "    completion = client.chat.completions.create(\n",
    "            model=deployed_model1,\n",
    "            messages=[\n",
    "                {\n",
    "                    \"role\": \"system\",\n",
    "                    \"content\": \"You are an AI assistant.\"\n",
    "                },\n",
    "                {\n",
    "                    \"role\": \"user\",\n",
    "                    \"content\": userQuery\n",
    "                }\n",
    "            ],\n",
    "            temperature=0,\n",
    "            max_tokens=500,\n",
    "            stream=False)\n",
    "    # print(completion.choices[0].message.content)\n",
    "    return completion.choices[0].message.content\n"
   ]
  },
  {
   "cell_type": "code",
   "execution_count": 5,
   "metadata": {},
   "outputs": [
    {
     "name": "stdout",
     "output_type": "stream",
     "text": [
      "Why don't skeletons fight each other?\n",
      "\n",
      "They don't have the guts.\n"
     ]
    }
   ],
   "source": [
    "answer1 = getOpenAIResp(\"Tell me a joke\", \"\", deployed_model1)\n",
    "print(answer1)\n",
    "# answer2 = getOpenAIResp(\"Tell me a joke\", \"\", deployed_model2)\n",
    "# answer3 = getOpenAIResp(\"Tell me a joke\", \"\", deployed_model3)\n"
   ]
  },
  {
   "cell_type": "code",
   "execution_count": 6,
   "metadata": {},
   "outputs": [],
   "source": [
    "def getSystemMessage():\n",
    "    systemMessage = \"You are an AI assistant who can generate test cases for Hashicorp's Terraform cloud.\"\n",
    "    return systemMessage"
   ]
  },
  {
   "cell_type": "code",
   "execution_count": 7,
   "metadata": {},
   "outputs": [
    {
     "name": "stdout",
     "output_type": "stream",
     "text": [
      "first test case\n"
     ]
    }
   ],
   "source": [
    " \n",
    "# read testcases.txt\n",
    "import os\n",
    "import json\n",
    " \n",
    "deployed_models = [deployed_model1, deployed_model2, deployed_model3]\n",
    "testresults = []\n",
    "with open(os.path.join(\".\", \"testcases.txt\"), \"r\") as file:\n",
    "    testcases = file.readlines()\n",
    "    for test in testcases:\n",
    "        print(test)\n",
    "        system_message = getSystemMessage()\n",
    "       \n",
    "        for model in deployed_models:\n",
    "            deployed_model = model\n",
    "            response = getOpenAIResp(test, system_message, deployed_model)\n",
    "            testresult = {\"question\": test, \"response\": response, \"model\": deployed_model}\n",
    "            testresults.append(testresult)\n",
    " \n",
    "#write to file\n",
    "with open(os.path.join(\".\", \"testcases_results.txt\"), \"w\") as file:\n",
    "    file.write(json.dumps(testresults, indent=4))  "
   ]
  },
  {
   "cell_type": "code",
   "execution_count": 8,
   "metadata": {},
   "outputs": [],
   "source": [
    "# print(json.dumps(response))"
   ]
  }
 ],
 "metadata": {
  "kernelspec": {
   "display_name": "Python 3",
   "language": "python",
   "name": "python3"
  },
  "language_info": {
   "codemirror_mode": {
    "name": "ipython",
    "version": 3
   },
   "file_extension": ".py",
   "mimetype": "text/x-python",
   "name": "python",
   "nbconvert_exporter": "python",
   "pygments_lexer": "ipython3",
   "version": "3.12.3"
  }
 },
 "nbformat": 4,
 "nbformat_minor": 2
}
